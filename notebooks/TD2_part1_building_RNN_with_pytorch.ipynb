{
 "cells": [
  {
   "cell_type": "markdown",
   "id": "895a119a",
   "metadata": {},
   "source": [
    "# Building RNN with Pytorch\n",
    "\n",
    "Dans ce TD, nous allons construire un RNN from scratch avec Pytorch, en suivant les étapes suivantes:\n",
    "1. Sur un problème linéaire, nous allons utiliser les torch optimizers pour trouver le paramètre de régression idéal\n",
    "2. Sur un problème non-linéaire, nous allons construire un multi-layers perceptron\n",
    "3. Sur un problème de texte, nous allons construire un modèle RNN"
   ]
  },
  {
   "cell_type": "code",
   "execution_count": 1,
   "id": "9929e27d",
   "metadata": {
    "ExecuteTime": {
     "end_time": "2023-11-27T14:19:38.302242416Z",
     "start_time": "2023-11-27T14:19:37.213884093Z"
    }
   },
   "outputs": [
    {
     "data": {
      "text/plain": "True"
     },
     "execution_count": 1,
     "metadata": {},
     "output_type": "execute_result"
    }
   ],
   "source": [
    "import matplotlib.pyplot as plt\n",
    "import numpy as np\n",
    "import torch\n",
    "torch.cuda.is_available()"
   ]
  },
  {
   "cell_type": "markdown",
   "id": "511cfa9c",
   "metadata": {},
   "source": [
    "## Optimizers\n",
    "\n",
    "### Données example\n",
    "Nous allons construire des données $y = \\beta^* X + b$\n"
   ]
  },
  {
   "cell_type": "code",
   "execution_count": 2,
   "id": "81d004af",
   "metadata": {
    "ExecuteTime": {
     "end_time": "2023-11-27T14:19:38.363607163Z",
     "start_time": "2023-11-27T14:19:38.302079792Z"
    }
   },
   "outputs": [
    {
     "data": {
      "text/plain": "[<matplotlib.lines.Line2D at 0x7f59aa097820>]"
     },
     "execution_count": 2,
     "metadata": {},
     "output_type": "execute_result"
    },
    {
     "data": {
      "text/plain": "<Figure size 640x480 with 1 Axes>",
      "image/png": "[encoded data removed]"
     },
     "metadata": {},
     "output_type": "display_data"
    }
   ],
   "source": [
    "n = 100\n",
    "\n",
    "a_star = 3.\n",
    "b_star = -3.\n",
    "noise_std = 1\n",
    "\n",
    "x = (np.random.rand(n, 1) - 0.5) * 4\n",
    "noise = np.random.normal(0, noise_std, (n, 1))\n",
    "y = a_star * x + b_star + noise\n",
    "\n",
    "x = torch.tensor(x, dtype=torch.float32)\n",
    "y = torch.tensor(y, dtype=torch.float32)\n",
    "\n",
    "xvec = x\n",
    "plt.plot(x, y, 'o', markersize=10)"
   ]
  },
  {
   "cell_type": "markdown",
   "id": "a30c3616",
   "metadata": {},
   "source": [
    "### Constuire l'optimizer\n",
    "\n",
    "- Avec torch.nn.Parameter(), créer le paramètre beta qui sera optimisé. Les predictions du modèle sont égales à $\\beta \\times X$ \n",
    "- Avec torch.nn.MSELoss, déclarer la loss entre les prédictions et le résultat réel. loss.backward() pour mettre à jour les gradients\n",
    "- Avec torch.optim.Adam, déclarer un optimizer\n",
    "- Construisez la boucle qui, pour n_epochs, va reset les gradients, calculer la loss, mettre à jour les gradients et faire un pas pour optimiser beta"
   ]
  },
  {
   "cell_type": "code",
   "execution_count": 3,
   "id": "d5af62a0",
   "metadata": {
    "ExecuteTime": {
     "end_time": "2023-11-27T14:19:38.610817208Z",
     "start_time": "2023-11-27T14:19:38.341707747Z"
    }
   },
   "outputs": [],
   "source": [
    "beta = torch.nn.Parameter(torch.tensor(0.))\n",
    "alpha = torch.nn.Parameter(torch.tensor(0.))\n",
    "loss_fn = torch.nn.MSELoss()\n",
    "optimizer = torch.optim.Adam([alpha, beta], lr=0.1)\n",
    "for epoch in range(n):\n",
    "    optimizer.zero_grad()\n",
    "    y_pred = alpha + beta * x\n",
    "    loss = loss_fn(y_pred, y)\n",
    "    loss.backward()\n",
    "    optimizer.step()\n",
    "    "
   ]
  },
  {
   "cell_type": "code",
   "execution_count": 4,
   "outputs": [
    {
     "name": "stdout",
     "output_type": "stream",
     "text": [
      "<class 'torch.nn.parameter.Parameter'> <class 'torch.Tensor'>\n",
      "tensor([[-0.9024],\n",
      "        [-0.9989],\n",
      "        [-1.0573],\n",
      "        [-1.7759],\n",
      "        [ 0.5663],\n",
      "        [-0.5802],\n",
      "        [ 1.1207],\n",
      "        [-1.7643],\n",
      "        [-0.6819],\n",
      "        [ 1.2477],\n",
      "        [ 1.9989],\n",
      "        [-1.8406],\n",
      "        [ 0.0091],\n",
      "        [ 1.2444],\n",
      "        [-1.9023],\n",
      "        [ 0.6462],\n",
      "        [ 1.6015],\n",
      "        [ 0.6007],\n",
      "        [ 1.3396],\n",
      "        [ 0.7975],\n",
      "        [ 0.0105],\n",
      "        [-0.7178],\n",
      "        [ 1.3887],\n",
      "        [-0.5754],\n",
      "        [ 1.4137],\n",
      "        [ 1.7555],\n",
      "        [-0.6785],\n",
      "        [ 1.8315],\n",
      "        [ 0.0979],\n",
      "        [-1.7643],\n",
      "        [-1.3966],\n",
      "        [-1.7208],\n",
      "        [-0.8956],\n",
      "        [-0.8497],\n",
      "        [ 0.5082],\n",
      "        [ 1.3915],\n",
      "        [-1.4493],\n",
      "        [-0.9659],\n",
      "        [-0.2457],\n",
      "        [ 1.8254],\n",
      "        [-0.3505],\n",
      "        [-1.3758],\n",
      "        [-1.1382],\n",
      "        [ 0.9246],\n",
      "        [-0.1940],\n",
      "        [-0.8045],\n",
      "        [-0.5965],\n",
      "        [-0.9375],\n",
      "        [-1.6597],\n",
      "        [ 1.2159],\n",
      "        [-1.2415],\n",
      "        [-0.3064],\n",
      "        [-1.6684],\n",
      "        [ 0.5192],\n",
      "        [ 1.8847],\n",
      "        [-1.6963],\n",
      "        [ 1.8950],\n",
      "        [-0.9862],\n",
      "        [ 1.2431],\n",
      "        [-1.2157],\n",
      "        [-0.2244],\n",
      "        [-1.9290],\n",
      "        [-0.6998],\n",
      "        [ 0.2306],\n",
      "        [ 0.7458],\n",
      "        [ 0.7413],\n",
      "        [-0.8793],\n",
      "        [ 0.8177],\n",
      "        [-0.0153],\n",
      "        [-0.1458],\n",
      "        [-1.1297],\n",
      "        [-1.7196],\n",
      "        [-0.1817],\n",
      "        [ 1.4392],\n",
      "        [-1.3656],\n",
      "        [-1.7225],\n",
      "        [ 0.1070],\n",
      "        [-1.2099],\n",
      "        [-1.0012],\n",
      "        [ 0.2807],\n",
      "        [-0.6737],\n",
      "        [-1.2768],\n",
      "        [-0.3253],\n",
      "        [-0.9052],\n",
      "        [ 1.2468],\n",
      "        [ 0.2075],\n",
      "        [ 0.2808],\n",
      "        [-1.7995],\n",
      "        [ 1.0039],\n",
      "        [-1.7244],\n",
      "        [ 0.3651],\n",
      "        [ 0.9458],\n",
      "        [ 0.1723],\n",
      "        [ 0.2123],\n",
      "        [ 1.9201],\n",
      "        [ 1.5203],\n",
      "        [-0.9011],\n",
      "        [ 1.7629],\n",
      "        [-1.8424],\n",
      "        [-0.5603]])\n"
     ]
    }
   ],
   "source": [
    "#beta = beta.detach().numpy()\n",
    "#beta = beta[0]\n",
    "print(type(beta), type(x))\n",
    "print(x)"
   ],
   "metadata": {
    "collapsed": false,
    "ExecuteTime": {
     "end_time": "2023-11-27T14:19:38.614772209Z",
     "start_time": "2023-11-27T14:19:38.611625937Z"
    }
   },
   "id": "fea8bcb951452805"
  },
  {
   "cell_type": "code",
   "execution_count": 5,
   "id": "b669ad46",
   "metadata": {
    "ExecuteTime": {
     "end_time": "2023-11-27T14:19:38.697677786Z",
     "start_time": "2023-11-27T14:19:38.614488599Z"
    }
   },
   "outputs": [
    {
     "data": {
      "text/plain": "[<matplotlib.lines.Line2D at 0x7f59a32bead0>]"
     },
     "execution_count": 5,
     "metadata": {},
     "output_type": "execute_result"
    },
    {
     "data": {
      "text/plain": "<Figure size 640x480 with 1 Axes>",
      "image/png": "[encoded data removed]"
     },
     "metadata": {},
     "output_type": "display_data"
    }
   ],
   "source": [
    "# Plot des predictions\n",
    "plt.plot(x, y, 'o', markersize=10)\n",
    "plt.plot(x, (alpha + beta * x).detach().numpy(), 'rx')"
   ]
  },
  {
   "cell_type": "markdown",
   "id": "bc7664db",
   "metadata": {},
   "source": [
    "## Construire un multi-layer perceptron (MLP)"
   ]
  },
  {
   "cell_type": "markdown",
   "id": "1270600a",
   "metadata": {},
   "source": [
    "Ici, les données sont $y = a x^2 + b$"
   ]
  },
  {
   "cell_type": "code",
   "execution_count": 6,
   "id": "ad053927",
   "metadata": {
    "ExecuteTime": {
     "end_time": "2023-11-27T14:19:38.810196612Z",
     "start_time": "2023-11-27T14:19:38.699955959Z"
    }
   },
   "outputs": [
    {
     "data": {
      "text/plain": "[<matplotlib.lines.Line2D at 0x7f59a292cac0>]"
     },
     "execution_count": 6,
     "metadata": {},
     "output_type": "execute_result"
    },
    {
     "data": {
      "text/plain": "<Figure size 640x480 with 1 Axes>",
      "image/png": "[encoded data removed]"
     },
     "metadata": {},
     "output_type": "display_data"
    }
   ],
   "source": [
    "n = 100\n",
    "\n",
    "a_star = 3.\n",
    "b_star = -3.\n",
    "noise_std = 1\n",
    "\n",
    "x = (np.random.rand(n, 1) - 0.5) * 4\n",
    "noise = np.random.normal(0, noise_std, (n, 1))\n",
    "y = a_star * (x ** 2) + b_star + noise\n",
    "\n",
    "x = torch.tensor(x, dtype=torch.float32)\n",
    "\n",
    "xvec = x\n",
    "plt.plot(x, y, 'o', markersize=10)"
   ]
  },
  {
   "cell_type": "markdown",
   "id": "5d285840",
   "metadata": {},
   "source": [
    "Nous allons construire un Pytorch modèle. Dans ce framework, on définit la fonction \"forward\" qui prend en argument les inputs et retourne les prédictions.\n",
    "\n",
    "A l'aide de torch.nn.Module et de différentes layers (torch.nn.Linear, torch.nn.ReLU), terminez la classe ci-dessous pour créer un multi-layers perceptron "
   ]
  },
  {
   "cell_type": "code",
   "execution_count": 7,
   "id": "35fe1d5e",
   "metadata": {
    "ExecuteTime": {
     "end_time": "2023-11-27T14:19:38.810369471Z",
     "start_time": "2023-11-27T14:19:38.809955947Z"
    }
   },
   "outputs": [],
   "source": [
    "class MLP(torch.nn.Module):\n",
    "    def __init__(self, input_size, hidden_size):\n",
    "        super(MLP, self).__init__()\n",
    "        self.layer1 = torch.nn.Linear(input_size, hidden_size)\n",
    "        self.relu = torch.nn.ReLU()\n",
    "        self.layer2 = torch.nn.Linear(hidden_size, hidden_size)\n",
    "        self.output_layer = torch.nn.Linear(hidden_size, 1)\n",
    "\n",
    "    def forward(self, X):\n",
    "        X = self.relu(self.layer1(X))\n",
    "        X = self.relu(self.layer2(X))\n",
    "        X = self.output_layer(X)\n",
    "        return X\n",
    "\n"
   ]
  },
  {
   "cell_type": "markdown",
   "id": "a6678cd7",
   "metadata": {},
   "source": [
    "En utilisant le travail précédent, faite une cellule utilisant un torch optimizer pour optimiser le MLP "
   ]
  },
  {
   "cell_type": "code",
   "execution_count": 8,
   "id": "b80e23d5",
   "metadata": {
    "ExecuteTime": {
     "end_time": "2023-11-27T14:19:39.051789998Z",
     "start_time": "2023-11-27T14:19:38.810077132Z"
    }
   },
   "outputs": [
    {
     "name": "stdout",
     "output_type": "stream",
     "text": [
      "Epoch 0: perte = 15.436359405517578\n",
      "Epoch 100: perte = 1.1799570322036743\n",
      "Epoch 200: perte = 0.9991470575332642\n",
      "Epoch 300: perte = 0.8861010074615479\n",
      "Epoch 400: perte = 0.8579540848731995\n",
      "Epoch 500: perte = 0.8439995050430298\n",
      "Epoch 600: perte = 0.8325071930885315\n",
      "Epoch 700: perte = 0.8269412517547607\n",
      "Epoch 800: perte = 0.8229487538337708\n",
      "Epoch 900: perte = 0.8208900690078735\n"
     ]
    }
   ],
   "source": [
    "# Initialisation du modèle de perceptron multicouche (Multi-Layer Perceptron, MLP)\n",
    "dimension_entree = 1  # La dimension de l'entrée x est unidimensionnelle\n",
    "taille_couche_cachee = 10  # Nombre de neurones dans la couche cachée\n",
    "model = MLP(dimension_entree, taille_couche_cachee)\n",
    "\n",
    "# Configuration de la fonction de perte et de l'optimiseur\n",
    "fonction_perte = torch.nn.MSELoss(reduction='mean')  # Utilisation de l'erreur quadratique moyenne\n",
    "optimiseur = torch.optim.Adam(model.parameters(), lr=0.01)  # Optimiseur Adam avec un taux d'apprentissage de 0.01\n",
    "\n",
    "# Boucle d'entraînement\n",
    "nombre_epochs = 1000  # Nombre total de passages dans l'ensemble de données d'entraînement\n",
    "for epoch in range(nombre_epochs):\n",
    "    # Génération des prédictions du modèle pour l'ensemble d'entrées xvec\n",
    "    predictions = model(xvec)\n",
    "\n",
    "    # Calcul de la perte en comparant les prédictions aux valeurs réelles y\n",
    "    perte = fonction_perte(predictions, torch.tensor(y, dtype=torch.float32))\n",
    "\n",
    "    # Réinitialisation des gradients avant le calcul de la rétropropagation\n",
    "    optimiseur.zero_grad()\n",
    "\n",
    "    # Calcul des gradients via rétropropagation\n",
    "    perte.backward()\n",
    "\n",
    "    # Mise à jour des poids et des biais du modèle selon les gradients calculés\n",
    "    optimiseur.step()\n",
    "\n",
    "    # Affichage de la valeur de la perte tous les 100 epochs pour suivre la progression\n",
    "    if epoch % 100 == 0:\n",
    "        print(f'Epoch {epoch}: perte = {perte.item()}')\n"
   ]
  },
  {
   "cell_type": "code",
   "execution_count": 9,
   "id": "2b056a8e",
   "metadata": {
    "ExecuteTime": {
     "end_time": "2023-11-27T14:19:39.129632714Z",
     "start_time": "2023-11-27T14:19:39.054747633Z"
    }
   },
   "outputs": [
    {
     "data": {
      "text/plain": "[<matplotlib.lines.Line2D at 0x7f59a2808b80>]"
     },
     "execution_count": 9,
     "metadata": {},
     "output_type": "execute_result"
    },
    {
     "data": {
      "text/plain": "<Figure size 640x480 with 1 Axes>",
      "image/png": "[encoded data removed]"
     },
     "metadata": {},
     "output_type": "display_data"
    }
   ],
   "source": [
    "# Plot des predictions\n",
    "plt.plot(x, y, 'o', markersize=10)\n",
    "predict = model(xvec).detach().numpy()\n",
    "plt.plot(x, predict, 'rx')"
   ]
  },
  {
   "cell_type": "markdown",
   "id": "6b679a74",
   "metadata": {},
   "source": [
    "## Construire un Recurrent Neural Network (RNN) from scratch"
   ]
  },
  {
   "cell_type": "markdown",
   "id": "69393034",
   "metadata": {},
   "source": [
    "### Données\n",
    " \n",
    "Téléchargez [ici](https://download.pytorch.org/tutorial/data.zip) un jeu de données \"nom\" -> pays d'origine du nom.\n",
    "Les noms de chaque pays sont dans leur fichier texte \"[country].txt\"\n",
    "\n",
    "A partir de ces données, créez X la liste des noms et y le pays d'origine de chaque nom"
   ]
  },
  {
   "cell_type": "markdown",
   "id": "f8e33ad1",
   "metadata": {},
   "source": [
    "### Aide pour générer les données\n",
    "\n",
    "A la fin de ce code, on lit les noms et leur pays d'origine.<br>\n",
    "On a une fonction randomTrainingExample, qui génère le pays d'origine et le nom (en texte), puis l'ID de ce pays et le tenseur représetant le nom. <br>\n",
    "\n",
    "A partir de là, vous pouvez générer les données X, y comme vous voulez"
   ]
  },
  {
   "cell_type": "code",
   "execution_count": 10,
   "id": "8669e66d",
   "metadata": {
    "scrolled": true,
    "ExecuteTime": {
     "end_time": "2023-11-27T14:19:39.133595560Z",
     "start_time": "2023-11-27T14:19:39.130895020Z"
    }
   },
   "outputs": [],
   "source": [
    "\n",
    "# Code pour générer le jeu de données\n",
    "# En admettant que les fichiers ont été extraits dans data/raw/names/\n",
    "\n",
    "import math\n",
    "import numpy as np\n",
    "from pathlib import Path\n",
    "import random\n",
    "import string\n",
    "import time\n",
    "import unicodedata\n",
    "\n",
    "path = Path(\"../data/names/\")"
   ]
  },
  {
   "cell_type": "code",
   "execution_count": 11,
   "id": "5ed6fb05",
   "metadata": {
    "ExecuteTime": {
     "end_time": "2023-11-27T14:19:39.182157094Z",
     "start_time": "2023-11-27T14:19:39.134374967Z"
    }
   },
   "outputs": [],
   "source": [
    "def read_names(path):\n",
    "    category_lines = {}\n",
    "    for file in path.iterdir():\n",
    "        if not file.name.endswith(\".txt\"):\n",
    "            continue\n",
    "            \n",
    "        with open(file) as f:\n",
    "            names = [unicodeToAscii(line.strip()) for line in f]\n",
    "        \n",
    "        category = file.stem\n",
    "        category_lines[category] = names\n",
    "\n",
    "    return category_lines\n",
    "\n",
    "# Handling ASCII stuff\n",
    "all_letters = string.ascii_letters + \" .,;'\"\n",
    "n_letters = len(all_letters)\n",
    "\n",
    "# Turn a Unicode string to plain ASCII, thanks to https://stackoverflow.com/a/518232/2809427\n",
    "def unicodeToAscii(s):\n",
    "    return ''.join(\n",
    "        c for c in unicodedata.normalize('NFD', s)\n",
    "        if unicodedata.category(c) != 'Mn'\n",
    "        and c in all_letters\n",
    "    )"
   ]
  },
  {
   "cell_type": "code",
   "execution_count": 12,
   "id": "bfc37069",
   "metadata": {
    "ExecuteTime": {
     "end_time": "2023-11-27T14:19:39.182334125Z",
     "start_time": "2023-11-27T14:19:39.181992675Z"
    }
   },
   "outputs": [],
   "source": [
    "category_lines = read_names(path)\n",
    "all_categories = list(category_lines.keys())\n",
    "n_categories = len(all_categories)"
   ]
  },
  {
   "cell_type": "code",
   "execution_count": 13,
   "id": "312870b8",
   "metadata": {
    "ExecuteTime": {
     "end_time": "2023-11-27T14:19:39.182404821Z",
     "start_time": "2023-11-27T14:19:39.182100726Z"
    }
   },
   "outputs": [],
   "source": [
    "import torch\n",
    "\n",
    "# Find letter index from all_letters, e.g. \"a\" = 0\n",
    "def letterToIndex(letter):\n",
    "    return all_letters.find(letter)\n",
    "\n",
    "# Just for demonstration, turn a letter into a <1 x n_letters> Tensor\n",
    "def letterToTensor(letter):\n",
    "    tensor = torch.zeros(1, n_letters)\n",
    "    tensor[0][letterToIndex(letter)] = 1\n",
    "    return tensor\n",
    "\n",
    "# Turn a line into a <line_length x 1 x n_letters>,\n",
    "# or an array of one-hot letter vectors\n",
    "def lineToTensor(line):\n",
    "    tensor = torch.zeros(len(line), 1, n_letters)\n",
    "    for li, letter in enumerate(line):\n",
    "        tensor[li][0][letterToIndex(letter)] = 1\n",
    "    return tensor"
   ]
  },
  {
   "cell_type": "code",
   "execution_count": 14,
   "id": "0b606108",
   "metadata": {
    "ExecuteTime": {
     "end_time": "2023-11-27T14:19:39.182602342Z",
     "start_time": "2023-11-27T14:19:39.182135093Z"
    }
   },
   "outputs": [
    {
     "name": "stdout",
     "output_type": "stream",
     "text": [
      "category = Czech / line = Schenk\n",
      "category = Irish / line = Tighearnach\n",
      "category = Polish / line = Jaskulski\n",
      "category = Arabic / line = Amari\n",
      "category = English / line = Newlands\n",
      "category = Italian / line = De laurentis\n",
      "category = Italian / line = Guerra\n",
      "category = Czech / line = Krivolavy\n",
      "category = Spanish / line = Rios\n",
      "category = Greek / line = Lolos\n"
     ]
    }
   ],
   "source": [
    "def randomChoice(l):\n",
    "    return l[random.randint(0, len(l) - 1)]\n",
    "\n",
    "def randomTrainingExample():\n",
    "    category = randomChoice(all_categories)\n",
    "    line = randomChoice(category_lines[category])\n",
    "    category_tensor = torch.tensor([all_categories.index(category)], dtype=torch.long)\n",
    "    line_tensor = lineToTensor(line)\n",
    "    return category, line, category_tensor, line_tensor\n",
    "\n",
    "for i in range(10):\n",
    "    category, line, category_tensor, line_tensor = randomTrainingExample()\n",
    "    print('category =', category, '/ line =', line)"
   ]
  },
  {
   "cell_type": "markdown",
   "id": "199a9224",
   "metadata": {},
   "source": [
    "### Construire le RNN\n",
    "\n",
    "Un Recurrent Neural Network prend, pour prédire un input X et un hidden state H.<br>\n",
    "Il output une prédiction et un nouvel hidden state pour la prochaine étape.<br>\n",
    "Nous allons construire un modèle:\n",
    "\n",
    "$f(name, H_0) = (proba(\\mbox{name from country 0}), proba(\\mbox{name from country 1}), \\dots)$\n",
    "\n",
    "Avec $H_0$ un hidden state initial (qui sera appris).\n",
    "\n",
    "Pour l'instant, nous allons construire un RNN linéaire.<br>\n",
    "Comme pour le MLP, construisez un torch.nn.Module:\n",
    "- A l'init, la classe prendra les arguments input_size, hidden_state_dim, output_size\n",
    "- L'init déclare un paramètre pour l'hidden state initial $H_0$, une layer linéaire prenant (input, hidden_state) -> output_size\n",
    "- Le forward fonctionnera ainsi:\n",
    "    - hidden_state = $H_0$\n",
    "    - For letter in name:\n",
    "        - x = one-hot encode (letter)\n",
    "        - output, hidden_state = linear_layer(x, hidden_state)\n",
    "    - return softmax(output)\n"
   ]
  },
  {
   "cell_type": "code",
   "execution_count": 15,
   "id": "3ab32234",
   "metadata": {
    "ExecuteTime": {
     "end_time": "2023-11-27T14:19:39.183983390Z",
     "start_time": "2023-11-27T14:19:39.182240980Z"
    }
   },
   "outputs": [],
   "source": [
    "import torch\n",
    "import torch.nn as nn\n",
    "import torch.nn.functional as F\n",
    "\n",
    "# Exemple de valeurs pour input_size et hidden_size\n",
    "input_size = n_letters  # 'n_letters' est le nombre total de lettres uniques dans votre jeu de données\n",
    "hidden_size = 128  # Vous pouvez choisir cette valeur; elle représente un hyperparamètre\n",
    "\n",
    "# Définition de la classe LinearRNN qui hérite de nn.Module\n",
    "class LinearRNN(nn.Module):\n",
    "    def __init__(self, input_size, hidden_size, output_size=18):\n",
    "        super(LinearRNN, self).__init__()\n",
    "        self.hidden_size = hidden_size\n",
    "        # Paramètre h0 initialisé à un vecteur de zéros pour l'état caché initial\n",
    "        self.h0 = nn.Parameter(torch.zeros(1, hidden_size))\n",
    "        # Couche linéaire combinant l'entrée et l'état caché pour produire un nouvel état caché\n",
    "        self.i2h = nn.Linear(input_size + hidden_size, hidden_size)\n",
    "        # Couche linéaire combinant l'entrée et l'état caché pour produire la sortie\n",
    "        self.i2o = nn.Linear(input_size + hidden_size, output_size)\n",
    "\n",
    "    def forward(self, name):\n",
    "        # Initialisation de l'état caché avec h0\n",
    "        hidden = self.h0\n",
    "        # Passage séquentiel de chaque lettre (supposée encodée) à travers le RNN\n",
    "        for i in range(name.size()[0]):\n",
    "            # Combinaison de la lettre actuelle et de l'état caché précédent\n",
    "            combined = torch.cat((name[i], hidden), 1)\n",
    "            # Mise à jour de l'état caché\n",
    "            hidden = self.i2h(combined)\n",
    "            # Calcul de la sortie\n",
    "            output = self.i2o(combined)\n",
    "        # Application de la fonction log_softmax sur la sortie pour obtenir des probabilités log\n",
    "        return F.log_softmax(output, dim=1)\n",
    "\n",
    "# Exemple d'initialisation du modèle avec la classe LinearRNN\n",
    "model = LinearRNN(input_size, hidden_size)\n"
   ]
  },
  {
   "cell_type": "markdown",
   "id": "61972503",
   "metadata": {},
   "source": [
    "A l'aide de la negative log likelihood (torch.nn.NLLLoss), construisez une boucle optimisant ce modèle (optimizer, itération au sein des examples).\n",
    "\n",
    "**Attention 1:** Ici, on n'a pas des tenseurs X, y. On va prendre les exemples 1 par 1.<br>\n",
    "**Attention 2:** Si le modèle apprend les examples dans l'ordre (d'abord tous les noms arabes, puis tous les chinois, puis tous les tchèques, etc), cela changera grandement le résulat (et le modèle sera très mauvais)"
   ]
  },
  {
   "cell_type": "code",
   "execution_count": 16,
   "id": "dce66341",
   "metadata": {
    "ExecuteTime": {
     "end_time": "2023-11-27T14:22:36.394174421Z",
     "start_time": "2023-11-27T14:19:39.182465942Z"
    }
   },
   "outputs": [
    {
     "name": "stdout",
     "output_type": "stream",
     "text": [
      "Epoch 0 - Perte: 1.3752\n",
      "Epoch 1 - Perte: 1.0644\n",
      "Epoch 2 - Perte: 0.9729\n",
      "Epoch 3 - Perte: 0.9169\n",
      "Epoch 4 - Perte: 0.8801\n",
      "Epoch 5 - Perte: 0.8591\n",
      "Epoch 6 - Perte: 0.8436\n",
      "Epoch 7 - Perte: 0.8295\n",
      "Epoch 8 - Perte: 0.8179\n",
      "Epoch 9 - Perte: 0.8153\n"
     ]
    }
   ],
   "source": [
    "import torch.optim as optim\n",
    "import random\n",
    "import glob\n",
    "import os\n",
    "\n",
    "# Chemin vers les fichiers de données\n",
    "chemin_fichiers_donnees = glob.glob('../data/names/*.txt')\n",
    "\n",
    "# Dictionnaire pour stocker les noms par nationalité\n",
    "noms_par_nationalite = {}\n",
    "\n",
    "# Chargement des noms depuis les fichiers\n",
    "for fichier in chemin_fichiers_donnees:\n",
    "    nationalite = os.path.basename(fichier).split('.')[0]\n",
    "    with open(fichier, 'r', encoding='utf-8') as f:\n",
    "        noms = f.read().strip().split('\\n')\n",
    "        noms_par_nationalite[nationalite] = [unicodeToAscii(nom) for nom in noms]\n",
    "\n",
    "# Affichage du nombre de noms par nationalité pour les premières entrées\n",
    "{cle: len(noms_par_nationalite[cle]) for cle in list(noms_par_nationalite)[:5]}\n",
    "\n",
    "# Compilation des données d'entraînement sous forme de liste de tuples (nom, nationalité)\n",
    "donnees_entrainement = []\n",
    "for nationalite, noms in noms_par_nationalite.items():\n",
    "    donnees_entrainement.extend([(nom, nationalite) for nom in noms])\n",
    "\n",
    "# Affichage de la taille des données d'entraînement et des premiers exemples\n",
    "len(donnees_entrainement), donnees_entrainement[:5]\n",
    "\n",
    "# Initialisation du modèle RNN, de la fonction de perte et de l'optimiseur\n",
    "model = LinearRNN(input_size, hidden_size)\n",
    "criterion = nn.NLLLoss()\n",
    "optimizer = optim.SGD(model.parameters(), lr=0.005)\n",
    "nombre_epochs = 10  # Nombre d'époques ajustable selon le besoin\n",
    "\n",
    "# Entraînement du modèle\n",
    "for epoch in range(nombre_epochs):\n",
    "    perte_totale = 0\n",
    "    random.shuffle(donnees_entrainement)  # Mélange des données d'entraînement\n",
    "\n",
    "    for nom, pays in donnees_entrainement:\n",
    "        nom_tensor = lineToTensor(nom)  # Conversion du nom en tensor\n",
    "        pays_tensor = torch.tensor([all_categories.index(pays)], dtype=torch.long)\n",
    "\n",
    "        optimizer.zero_grad()\n",
    "\n",
    "        sortie = model(nom_tensor)\n",
    "\n",
    "        perte = criterion(sortie, pays_tensor)\n",
    "        perte.backward()\n",
    "        optimizer.step()\n",
    "\n",
    "        perte_totale += perte.item()\n",
    "\n",
    "    perte_moyenne = perte_totale / len(donnees_entrainement)\n",
    "    print(f\"Epoch {epoch} - Perte: {perte_moyenne:.4f}\")\n"
   ]
  },
  {
   "cell_type": "markdown",
   "id": "a2625860",
   "metadata": {},
   "source": [
    "## Utilisez les RNNs de Pytorch\n",
    "\n",
    "Sur le même jeu de données, nous allons utiliser les RNNs déjà codés par Pytorch.<br>"
   ]
  },
  {
   "cell_type": "markdown",
   "id": "264251cf",
   "metadata": {},
   "source": [
    "### Padding\n",
    "\n",
    "Nous voulons aussi utiliser des tenseurs X et y pour utiliser data loader pour les batchs, etc\n",
    "\n",
    "\n",
    "Avec du padding, créer un tenseur X de la taille (nb_data, name_max_length, vocab_size). <br>\n",
    "X[i, j, :] contient le one-hot encode de la j-ème lettre du i-ème prénom. Si le i-ème prénom a moins de j lettre, alors X[i, j, :] est un vecteur nul"
   ]
  },
  {
   "cell_type": "code",
   "execution_count": 17,
   "id": "eaa21023",
   "metadata": {
    "ExecuteTime": {
     "end_time": "2023-11-27T14:22:36.764168561Z",
     "start_time": "2023-11-27T14:22:36.396445854Z"
    }
   },
   "outputs": [],
   "source": [
    "def convertNameToTensor(name, max_name_length):\n",
    "    \"\"\"\n",
    "    Convert a given name to a 2D tensor representing a one-hot encoded matrix with padding.\n",
    "    Each row in the tensor corresponds to one character of the name with one-hot encoding, \n",
    "    where `max_name_length` is the maximum length of any name in the dataset to ensure \n",
    "    uniform tensor size.\n",
    "    \n",
    "    Parameters:\n",
    "    - name (str): The name to convert.\n",
    "    - max_name_length (int): The length to pad or truncate the name to.\n",
    "    \n",
    "    Returns:\n",
    "    - tensor (FloatTensor): A 2D tensor with shape (max_name_length, n_letters).\n",
    "    \"\"\"\n",
    "    # Initialize a zero tensor with dimensions of [max_name_length x n_letters]\n",
    "    tensor = torch.zeros(max_name_length, n_letters)\n",
    "    # Iterate over each character in the name\n",
    "    for index, letter in enumerate(name):\n",
    "        # Set the corresponding position to 1 to represent the letter as one-hot\n",
    "        tensor[index][all_letters.find(letter)] = 1\n",
    "    return tensor\n",
    "\n",
    "# Calculate the maximum length of a name from all the names in the dataset\n",
    "max_name_length = max(len(name) for names in noms_par_nationalite.values() for name in names)\n",
    "\n",
    "# Initialize tensors to hold the one-hot encoded names and the corresponding nationalities\n",
    "names_tensor = torch.zeros(len(donnees_entrainement), max_name_length, n_letters)\n",
    "nationalities_tensor = torch.zeros(len(donnees_entrainement), dtype=torch.long)\n",
    "\n",
    "# Populate the tensors with one-hot encoded names and nationality indices\n",
    "for index, (name, nationality) in enumerate(donnees_entrainement):\n",
    "    names_tensor[index] = convertNameToTensor(name, max_name_length)\n",
    "    nationalities_tensor[index] = all_categories.index(nationality)\n",
    "\n",
    "# names_tensor and nationalities_tensor are now ready to be used with a DataLoader\n"
   ]
  },
  {
   "cell_type": "markdown",
   "id": "a0e91689",
   "metadata": {},
   "source": [
    "### Modèle\n",
    "\n",
    "Construisez un modèle qui:\n",
    "- A l'init, déclare un hidden state initial $H_0$, un RNN (avec torch.nn.RNN)\n",
    "- Au forward, passe (input, $H_0$) dans le RNN, puis applique un softmax à l'output"
   ]
  },
  {
   "cell_type": "code",
   "execution_count": 18,
   "id": "b5b60d00",
   "metadata": {
    "ExecuteTime": {
     "end_time": "2023-11-27T14:22:36.768251061Z",
     "start_time": "2023-11-27T14:22:36.765984848Z"
    }
   },
   "outputs": [
    {
     "name": "stdout",
     "output_type": "stream",
     "text": [
      "RNNModel(\n",
      "  (rnn): RNN(57, 128)\n",
      "  (out): Linear(in_features=128, out_features=18, bias=True)\n",
      ")\n"
     ]
    }
   ],
   "source": [
    "\n",
    "n_letters = 57\n",
    "input_size = n_letters  # Taille de l'entrée correspondant à la taille du vecteur one-hot\n",
    "hidden_size = 128  # Taille de l'état caché, vous pouvez ajuster cette valeur\n",
    "output_size = len(all_categories)  \n",
    "\n",
    "\n",
    "class RNNModel(nn.Module):\n",
    "    def __init__(self, input_size, hidden_size, output_size):\n",
    "        super(RNNModel, self).__init__()\n",
    "        self.hidden_size = hidden_size\n",
    "        self.rnn = nn.RNN(input_size, hidden_size)\n",
    "        self.out = nn.Linear(hidden_size, output_size)\n",
    "\n",
    "    def forward(self, input):\n",
    "        output, _ = self.rnn(input)\n",
    "        output = self.out(output[:, -1])\n",
    "        return F.log_softmax(output, dim=1)\n",
    "\n",
    "    def initHidden(self):\n",
    "        # Initialisation de l'état caché\n",
    "        return torch.zeros(1, 1, self.hidden_size)\n",
    "\n",
    "\n",
    "# Exemple d'initialisation du modèle\n",
    "model = RNNModel(input_size, hidden_size, output_size)\n",
    "print(model)"
   ]
  },
  {
   "cell_type": "markdown",
   "id": "2a81d080",
   "metadata": {},
   "source": [
    "Entraînez le modèle avec des batchs de X, y"
   ]
  },
  {
   "cell_type": "code",
   "execution_count": 19,
   "id": "2c675881",
   "metadata": {
    "ExecuteTime": {
     "end_time": "2023-11-27T14:22:47.961882819Z",
     "start_time": "2023-11-27T14:22:36.769480277Z"
    }
   },
   "outputs": [
    {
     "name": "stdout",
     "output_type": "stream",
     "text": [
      "20074\n",
      "20074\n",
      "Epoch 1/10, Loss: 2.192208069524947\n",
      "Epoch 2/10, Loss: 1.8729213442012762\n",
      "Epoch 3/10, Loss: 1.8622149832689079\n",
      "Epoch 4/10, Loss: 1.8590369869948953\n",
      "Epoch 5/10, Loss: 1.856329495739785\n",
      "Epoch 6/10, Loss: 1.8542460457534546\n",
      "Epoch 7/10, Loss: 1.855271200085901\n",
      "Epoch 8/10, Loss: 1.8531580491430442\n",
      "Epoch 9/10, Loss: 1.8531083047010337\n",
      "Epoch 10/10, Loss: 1.8528646697663957\n"
     ]
    }
   ],
   "source": [
    "from torch.utils.data import TensorDataset, DataLoader\n",
    "print(len(names_tensor))\n",
    "print(len(nationalities_tensor))\n",
    "# Création d'un TensorDataset et d'un DataLoader\n",
    "dataset = TensorDataset(names_tensor, nationalities_tensor)\n",
    "batch_size = 64  # Vous pouvez ajuster la taille des batchs\n",
    "dataloader = DataLoader(dataset, batch_size=batch_size, shuffle=True)\n",
    "\n",
    "optimizer = optim.SGD(model.parameters(), lr=0.005)\n",
    "\n",
    "# Boucle d'entraînement\n",
    "num_epochs =  10 # Vous pouvez ajuster le nombre d'époques\n",
    "for epoch in range(num_epochs):\n",
    "    total_loss = 0\n",
    "    for batch in dataloader:\n",
    "        batch_X, batch_y = batch\n",
    "        # batch_X = batch_X.transpose(0, 1)  # Transposition pour que la dimension des séquences soit la première\n",
    "\n",
    "        optimizer.zero_grad()\n",
    "        \n",
    "        \"\"\"\n",
    "        hidden = model.initHidden()\n",
    "        hidden = hidden.repeat(1, batch_size, 1)  # Adapter la taille de l'état caché au batch\n",
    "\n",
    "        for i in range(batch_X.size(0)):\n",
    "            # output, hidden = model(batch_X[i].unsqueeze(0), hidden)\n",
    "            output, hidden = model(batch_X[i], hidden)\n",
    "\n",
    "        \"\"\"\n",
    "        \n",
    "        output = model(batch_X)\n",
    "        loss = criterion(output, batch_y)\n",
    "        loss.backward()\n",
    "        optimizer.step()\n",
    "\n",
    "        total_loss += loss.item()\n",
    "\n",
    "    print(f'Epoch {epoch+1}/{num_epochs}, Loss: {total_loss/len(dataloader)}')"
   ]
  },
  {
   "cell_type": "markdown",
   "id": "eda0372a",
   "metadata": {},
   "source": [
    "### Amélioration du modèle\n",
    "\n",
    "Tenter d'améliorer le modèle:\n",
    "- En utilisant plusieurs layers dans le RNN\n",
    "- En utilisant LSTM à la place de RNN (une autre forme de recurrent neural network, plus avancé)\n",
    "\n",
    "(regardez la doc)"
   ]
  },
  {
   "cell_type": "code",
   "execution_count": 20,
   "id": "f688924b",
   "metadata": {
    "ExecuteTime": {
     "end_time": "2023-11-27T14:22:48.026291Z",
     "start_time": "2023-11-27T14:22:47.961420841Z"
    }
   },
   "outputs": [
    {
     "name": "stdout",
     "output_type": "stream",
     "text": [
      "Epoch [1/10], Loss: 0.6938\n",
      "Epoch [2/10], Loss: 0.6903\n",
      "Epoch [3/10], Loss: 0.6874\n",
      "Epoch [4/10], Loss: 0.6843\n",
      "Epoch [5/10], Loss: 0.6808\n",
      "Epoch [6/10], Loss: 0.6764\n",
      "Epoch [7/10], Loss: 0.6712\n",
      "Epoch [8/10], Loss: 0.6651\n",
      "Epoch [9/10], Loss: 0.6583\n",
      "Epoch [10/10], Loss: 0.6511\n"
     ]
    }
   ],
   "source": [
    "import torch\n",
    "import torch.nn as nn\n",
    "from torch.utils.data import TensorDataset, DataLoader\n",
    "import torch.optim as optim\n",
    "\n",
    "class LSTMModel(nn.Module):\n",
    "    def __init__(self, input_size, embedding_size, hidden_size, output_size, num_layers):\n",
    "        super(LSTMModel, self).__init__()\n",
    "        self.embedding = nn.Embedding(input_size, embedding_size)\n",
    "        self.lstm = nn.LSTM(embedding_size, hidden_size, num_layers, batch_first=True)\n",
    "        self.fc = nn.Linear(hidden_size, output_size)\n",
    "\n",
    "    def forward(self, x):\n",
    "        x = self.embedding(x)\n",
    "        h0 = torch.zeros(num_layers, x.size(0), hidden_size)\n",
    "        c0 = torch.zeros(num_layers, x.size(0), hidden_size)\n",
    "        out, _ = self.lstm(x, (h0, c0))\n",
    "        out = self.fc(out[:, -1, :])\n",
    "        return out\n",
    "\n",
    "# Hyperparamètres\n",
    "input_size = 10  # Taille du vocabulaire\n",
    "embedding_size = 64  # Taille de l'embedding\n",
    "hidden_size = 128  # Taille de l'état caché\n",
    "output_size = 2   # Nombre de classes\n",
    "num_layers = 2  # Nombre de couches LSTM\n",
    "\n",
    "# Création du modèle\n",
    "model = LSTMModel(input_size, embedding_size, hidden_size, output_size, num_layers)\n",
    "\n",
    "# Définition de la fonction de perte et de l'optimiseur\n",
    "criterion = nn.CrossEntropyLoss()\n",
    "optimizer = optim.Adam(model.parameters(), lr=0.001)\n",
    "\n",
    "# Exemple de données d'entrée et d'étiquettes (à remplacer par vos données)\n",
    "x_train = torch.randint(0, input_size, (100, 5))  # Données d'entrée\n",
    "y_train = torch.randint(0, output_size, (100,))  # Étiquettes\n",
    "\n",
    "# Entraînement du modèle\n",
    "num_epochs = 10\n",
    "for epoch in range(num_epochs):\n",
    "    outputs = model(x_train)\n",
    "    loss = criterion(outputs, y_train)\n",
    "    optimizer.zero_grad()\n",
    "    loss.backward()\n",
    "    optimizer.step()\n",
    "    print(f'Epoch [{epoch+1}/{num_epochs}], Loss: {loss.item():.4f}')"
   ]
  },
  {
   "cell_type": "markdown",
   "id": "da84e069",
   "metadata": {},
   "source": [
    "### Embedding\n",
    "\n",
    "On veut utiliser en embedding pour les lettres.\n",
    "Le forward appliquerait l'embedding aux lettres, puis les layers RNN prendrait l'embedding comme input\n",
    "\n",
    "Nous allons utiliser torch.nn.Embedding\n",
    "**Attention**: Embedding ne prend pas les lettres one-hot encoded, mais leurs indices.\n",
    "Par exemple, \"abca\", il lui faudrait le vecteur [0, 1, 2, 0]<br>\n",
    "et non [[1, 0, 0], [0, 1, 0], [0, 0, 1], [1, 0, 0]]"
   ]
  },
  {
   "cell_type": "markdown",
   "id": "c0418088",
   "metadata": {},
   "source": [
    "**Expérimenter torch.nn.Embedding**<br>\n",
    "Instantier \"emb\" une torch.nn.Embedding avec les bons paramètres (regardez la doc)\n",
    "En construisant le bon tenseur X_emb,\n",
    "\n",
    "```emb(X_emb)```\n",
    "\n",
    "doit retourner un tenseur (qui n'a pas de sens car il n'a rien appris pour l'instant, mais les opérations se passent bien)"
   ]
  },
  {
   "cell_type": "code",
   "execution_count": 21,
   "id": "617eb47b",
   "metadata": {
    "ExecuteTime": {
     "end_time": "2023-11-27T14:22:48.033055968Z",
     "start_time": "2023-11-27T14:22:48.029309632Z"
    }
   },
   "outputs": [],
   "source": [
    "import torch\n",
    "import torch.nn as nn\n",
    "\n",
    "class RNNWithEmbedding(nn.Module):\n",
    "    def __init__(self, input_size, hidden_size, output_size, embedding_dim, num_layers=1, model_type='RNN'):\n",
    "        super(RNNWithEmbedding, self).__init__()\n",
    "        self.hidden_size = hidden_size\n",
    "        self.num_layers = num_layers\n",
    "\n",
    "        # Couche d'embedding\n",
    "        self.embedding = nn.Embedding(input_size, embedding_dim)\n",
    "\n",
    "        # RNN ou LSTM\n",
    "        if model_type == 'LSTM':\n",
    "            self.rnn = nn.LSTM(embedding_dim, hidden_size, num_layers, batch_first=True)\n",
    "        else:\n",
    "            self.rnn = nn.RNN(embedding_dim, hidden_size, num_layers, batch_first=True)\n",
    "\n",
    "        self.fc = nn.Linear(hidden_size, output_size)\n",
    "\n",
    "    def forward(self, x):\n",
    "        # Appliquer l'embedding\n",
    "        embedded = self.embedding(x)\n",
    "\n",
    "        # Initialiser l'état caché\n",
    "        h0 = torch.zeros(self.num_layers, x.size(0), self.hidden_size).to(x.device)\n",
    "        c0 = torch.zeros(self.num_layers, x.size(0), self.hidden_size).to(x.device)\n",
    "\n",
    "        # Forward propagate le RNN/LSTM\n",
    "        if isinstance(self.rnn, nn.LSTM):\n",
    "            out, _ = self.rnn(embedded, (h0, c0))\n",
    "        else:\n",
    "            out, _ = self.rnn(embedded, h0)\n",
    "\n",
    "        # Décoder la sortie du temps final\n",
    "        out = self.fc(out[:, -1, :])\n",
    "        return out\n",
    "\n",
    "# Exemple d'utilisation\n",
    "# input_size = Nombre total de lettres uniques dans le jeu de données\n",
    "# embedding_dim = Dimension de l'embedding (par exemple, 64)\n",
    "# hidden_size = Taille de l'état caché\n",
    "# output_size = Nombre de classes (par exemple, nombre de langues)\n",
    "input_size = n_letters  # Taille de l'entrée correspondant à la taille du vecteur one-hot\n",
    "hidden_size = 128  # Taille de l'état caché, vous pouvez ajuster cette valeur\n",
    "output_size = len(all_categories)  \n",
    "embedding_dim = 64\n",
    "model = RNNWithEmbedding(input_size, hidden_size, output_size, embedding_dim, num_layers=2, model_type='LSTM')"
   ]
  },
  {
   "cell_type": "markdown",
   "id": "508cc851",
   "metadata": {},
   "source": [
    "Construisez un modèle RNN, où les lettres passent par l'embedding avant d'être envoyées dans les couches de RNN.\n",
    "Construisez une loop d'apprentissage\n",
    "\n",
    "Expérimentez plusieurs valeurs pour le nombre de couche, la taille d'embedding ou les tailles d'hidden state.<br>\n",
    "Quel neg log likelihood obtenez-vous ?"
   ]
  },
  {
   "cell_type": "code",
   "execution_count": 22,
   "id": "25e58d7a",
   "metadata": {
    "ExecuteTime": {
     "end_time": "2023-11-27T14:22:48.077373462Z",
     "start_time": "2023-11-27T14:22:48.034871315Z"
    }
   },
   "outputs": [
    {
     "name": "stdout",
     "output_type": "stream",
     "text": [
      "Epoch [1/10], Loss: 0.7074\n",
      "Epoch [2/10], Loss: 0.6751\n",
      "Epoch [3/10], Loss: 0.6520\n",
      "Epoch [4/10], Loss: 0.6332\n",
      "Epoch [5/10], Loss: 0.6159\n",
      "Epoch [6/10], Loss: 0.5991\n",
      "Epoch [7/10], Loss: 0.5826\n",
      "Epoch [8/10], Loss: 0.5664\n",
      "Epoch [9/10], Loss: 0.5504\n",
      "Epoch [10/10], Loss: 0.5344\n"
     ]
    }
   ],
   "source": [
    "import torch\n",
    "import torch.nn as nn\n",
    "import torch.optim as optim\n",
    "\n",
    "class RNNModel(nn.Module):\n",
    "    def __init__(self, input_size, embedding_size, hidden_size, output_size, num_layers):\n",
    "        super(RNNModel, self).__init__()\n",
    "        self.embedding = nn.Embedding(input_size, embedding_size)\n",
    "        self.rnn = nn.RNN(embedding_size, hidden_size, num_layers, batch_first=True)\n",
    "        self.fc = nn.Linear(hidden_size, output_size)\n",
    "\n",
    "    def forward(self, x):\n",
    "        x = self.embedding(x)\n",
    "        h0 = torch.zeros(num_layers, x.size(0), hidden_size)\n",
    "        out, _ = self.rnn(x, h0)\n",
    "        out = self.fc(out[:, -1, :])\n",
    "        return out\n",
    "\n",
    "input_size = 10  # Taille du vocabulaire (à ajuster)\n",
    "embedding_size = 64  # Taille de l'embedding\n",
    "hidden_size = 128  # Taille de l'état caché\n",
    "output_size = 2   # Nombre de classes (à ajuster)\n",
    "num_layers = 1  # Nombre de couches RNN\n",
    "\n",
    "model = RNNModel(input_size, embedding_size, hidden_size, output_size, num_layers)\n",
    "criterion = nn.CrossEntropyLoss()\n",
    "optimizer = optim.Adam(model.parameters(), lr=0.001)\n",
    "\n",
    "x_train = torch.randint(0, input_size, (100, 5))  # Exemple de données d'entrée\n",
    "y_train = torch.randint(0, output_size, (100,))  # Exemple d'étiquettes\n",
    "\n",
    "num_epochs = 10\n",
    "for epoch in range(num_epochs):\n",
    "    outputs = model(x_train)\n",
    "    loss = criterion(outputs, y_train)\n",
    "    optimizer.zero_grad()\n",
    "    loss.backward()\n",
    "    optimizer.step()\n",
    "    print(f'Epoch [{epoch+1}/{num_epochs}], Loss: {loss.item():.4f}')"
   ]
  },
  {
   "cell_type": "code",
   "execution_count": 22,
   "outputs": [],
   "source": [],
   "metadata": {
    "collapsed": false,
    "ExecuteTime": {
     "end_time": "2023-11-27T14:22:48.112457464Z",
     "start_time": "2023-11-27T14:22:48.050446413Z"
    }
   },
   "id": "37424aebb5ad5f20"
  }
 ],
 "metadata": {
  "kernelspec": {
   "display_name": "Python 3 (ipykernel)",
   "language": "python",
   "name": "python3"
  },
  "language_info": {
   "codemirror_mode": {
    "name": "ipython",
    "version": 3
   },
   "file_extension": ".py",
   "mimetype": "text/x-python",
   "name": "python",
   "nbconvert_exporter": "python",
   "pygments_lexer": "ipython3",
   "version": "3.10.12"
  }
 },
 "nbformat": 4,
 "nbformat_minor": 5
}
