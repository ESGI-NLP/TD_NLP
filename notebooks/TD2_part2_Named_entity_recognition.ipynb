{
 "cells": [
  {
   "cell_type": "markdown",
   "id": "3b7c0b40",
   "metadata": {},
   "source": [
    "# TD2 part 2: Named entity recognition\n",
    "\n",
    "Dans ce TD, nous allons prendre un datasets où les noms de personnes sont taggés.<br>\n",
    "Nous allons transformer ces données en tenseurs X, y et attention_mask.<br>\n",
    "Nous allons créer un modèle RNN pour prédire si un mot est un nom de personne.<br>\n",
    "Nous allons ensuite créer la loop avec l'optimizer pour apprendre le modèle.<br>\n",
    "Du modèle appris (prédisant sur les tokens), nous allons postprocess les prédictions pour avoir les prédictions sur les noms.\n",
    "\n",
    "Un fois que la loop est créée et que le modèle apprend, nous allons changer la structure du modèle:\n",
    "- Changer learning rate. Comment se comporte le modèle\n",
    "- Ajouter des couches denses, ReLU, dropout, normalization\n",
    "- Changer le nombre de layers du RNN, LSTM.\n",
    "\n",
    "Lorsqu'on a un bon modèle de prédiction pour les noms de personnes, nous allons l'appliquer à notre projet fil rouge.\n",
    "Utilisez-le tel que. Quelle accuracy ?\n",
    "Ré-entrainez la (les) dernière(s) couche(s) du modèle sur notre jeu de données. A-t-il gagné en accuracy ?"
   ]
  },
  {
   "cell_type": "code",
   "execution_count": 1,
   "id": "86402ca3",
   "metadata": {
    "ExecuteTime": {
     "end_time": "2023-11-28T16:24:45.666171624Z",
     "start_time": "2023-11-28T16:24:44.661353967Z"
    }
   },
   "outputs": [],
   "source": [
    "# Import\n",
    "import matplotlib.pyplot as plt\n",
    "import numpy as np\n",
    "import torch\n",
    "import transformers"
   ]
  },
  {
   "cell_type": "markdown",
   "id": "17f552fb",
   "metadata": {},
   "source": [
    "## Data\n",
    "\n",
    "Télécharger le dataset MultiNERD FR [ici](https://github.com/Babelscape/multinerd)<br>\n",
    "Mettez les données dans le dossier data/raw du projet.\n"
   ]
  },
  {
   "cell_type": "code",
   "execution_count": 2,
   "id": "157bc913",
   "metadata": {
    "ExecuteTime": {
     "end_time": "2023-11-28T16:24:45.671728552Z",
     "start_time": "2023-11-28T16:24:45.668537761Z"
    }
   },
   "outputs": [],
   "source": [
    "def extract_multinerd_person_words(filename=\"../data/raw/train_fr.tsv\"):\n",
    "    with open(filename, encoding='utf-8') as f:\n",
    "        tagged_words = [line.strip().split(\"\\t\") for line in f]\n",
    "        \n",
    "        # Joining words until we meet a dot\n",
    "        # Word's label is 1 if 'PER' is in its tag\n",
    "        sentences = []\n",
    "        sentence_labels = []\n",
    "    \n",
    "        this_word = []\n",
    "        this_labels = []\n",
    "        for tagged_word in tagged_words:\n",
    "            if len(tagged_word) < 3:\n",
    "                # not a tagged word\n",
    "                continue\n",
    "            word = tagged_word[1]\n",
    "            tag = tagged_word[2]\n",
    "        \n",
    "            if word == '.':\n",
    "                sentences.append(\" \".join(this_word))\n",
    "                sentence_labels.append(this_labels)\n",
    "            \n",
    "                this_word = []\n",
    "                this_labels = []\n",
    "            else:\n",
    "                this_word.append(word)\n",
    "                this_labels.append(1 * tag.endswith(\"PER\"))\n",
    "\n",
    "    return sentences, sentence_labels\n"
   ]
  },
  {
   "cell_type": "code",
   "execution_count": 3,
   "id": "fcba104b",
   "metadata": {
    "ExecuteTime": {
     "end_time": "2023-11-28T16:24:49.263661607Z",
     "start_time": "2023-11-28T16:24:45.670422136Z"
    }
   },
   "outputs": [],
   "source": [
    "sentences, labels = extract_multinerd_person_words()"
   ]
  },
  {
   "cell_type": "markdown",
   "id": "ff9b09cc",
   "metadata": {},
   "source": [
    "## Tokenizer\n",
    "\n",
    "En utilisant le tokenizer d'HuggingFace \"camembert-base\":\n",
    "- Transformer les phrases en tokens\n",
    "- Obtenez des vecteur y qui ont le même nombre d'entrées qu'il y a de tokens dans la phrase\n",
    "- Ayez un tenseur \"attention_mask\" pour savoir sur quels tokens on cherche à predire le label\n",
    "- Transformez les tokens en token_ids (avec le tokenizer)\n",
    "Avec tout cela, vous pouvez former vos tenseurs X, Y et attention_mask"
   ]
  },
  {
   "cell_type": "code",
   "execution_count": 4,
   "id": "1c8ff1ee",
   "metadata": {
    "ExecuteTime": {
     "end_time": "2023-11-28T16:24:49.788855207Z",
     "start_time": "2023-11-28T16:24:49.261998618Z"
    }
   },
   "outputs": [],
   "source": [
    "from transformers import AutoTokenizer\n",
    "\n",
    "tokenizer = AutoTokenizer.from_pretrained(\"camembert-base\")"
   ]
  },
  {
   "cell_type": "code",
   "execution_count": 5,
   "id": "04a3802c",
   "metadata": {
    "ExecuteTime": {
     "end_time": "2023-11-28T16:24:49.794503236Z",
     "start_time": "2023-11-28T16:24:49.790708069Z"
    }
   },
   "outputs": [],
   "source": [
    "def build_tokens_and_labels_and_attention_mask(tokenizer, sentence, labels):\n",
    "    words = sentence.split()\n",
    "    tokens = []\n",
    "    tokens_label = []\n",
    "    attention_mask = []\n",
    "    \n",
    "    for word, label in zip(words, labels):\n",
    "        this_tokens = tokenizer.tokenize(word)\n",
    "        tokens += this_tokens\n",
    "        \n",
    "        this_labels = [0] * len(this_tokens)\n",
    "        this_labels[0] = label        \n",
    "        tokens_label += this_labels\n",
    "        \n",
    "        this_attention_mask = [1] + [0] * (len(this_tokens) - 1)\n",
    "        attention_mask += this_attention_mask\n",
    "        \n",
    "    # Convertir les tokens en token_ids\n",
    "    token_ids = tokenizer.convert_tokens_to_ids(tokens)\n",
    "        \n",
    "    return tokens, token_ids, tokens_label, attention_mask"
   ]
  },
  {
   "cell_type": "code",
   "execution_count": 6,
   "id": "066d1710",
   "metadata": {
    "ExecuteTime": {
     "end_time": "2023-11-28T16:24:49.804779777Z",
     "start_time": "2023-11-28T16:24:49.792534217Z"
    }
   },
   "outputs": [],
   "source": [
    "tokens, token_ids, label, padding_masks = build_tokens_and_labels_and_attention_mask(tokenizer, sentences[0], labels[0])"
   ]
  },
  {
   "cell_type": "code",
   "execution_count": 7,
   "id": "0d73a2b5",
   "metadata": {
    "ExecuteTime": {
     "end_time": "2023-11-28T16:24:49.811770250Z",
     "start_time": "2023-11-28T16:24:49.806321742Z"
    }
   },
   "outputs": [],
   "source": [
    "from tqdm import tqdm\n",
    "\n",
    "def build_tensors(sentences, labels, tokenizer, max_len):\n",
    "    X = []\n",
    "    y = []\n",
    "    attention_masks = []\n",
    "\n",
    "    for sentence, label in tqdm(zip(sentences, labels), total=len(sentences), desc=\"Processing sentences\"):\n",
    "        tokens, token_ids, label_ids, attention_mask = build_tokens_and_labels_and_attention_mask(tokenizer, sentence, label)\n",
    "\n",
    "        # Padding\n",
    "        padding_length = max_len - len(token_ids)\n",
    "        token_ids.extend([0] * padding_length)\n",
    "        label_ids.extend([0] * padding_length)\n",
    "        attention_mask.extend([0] * padding_length)\n",
    "\n",
    "        X.append(token_ids)\n",
    "        y.append(label_ids)\n",
    "        attention_masks.append(attention_mask)\n",
    "\n",
    "    return torch.tensor(X, dtype=torch.long), torch.tensor(y, dtype=torch.long), torch.tensor(attention_masks, dtype=torch.long)\n"
   ]
  },
  {
   "cell_type": "code",
   "execution_count": 8,
   "id": "2e62c9b2",
   "metadata": {
    "ExecuteTime": {
     "end_time": "2023-11-28T16:25:49.253800769Z",
     "start_time": "2023-11-28T16:24:49.808621209Z"
    }
   },
   "outputs": [
    {
     "name": "stderr",
     "output_type": "stream",
     "text": [
      "Processing sentences: 100%|██████████| 140436/140436 [00:47<00:00, 2983.17it/s]\n"
     ]
    }
   ],
   "source": [
    "max_len = max([len(tokenizer.encode(sentence)) for sentence in sentences])\n",
    "X, y, attention_mask = build_tensors(sentences, labels, tokenizer, max_len)"
   ]
  },
  {
   "cell_type": "code",
   "execution_count": 8,
   "id": "06a1580e",
   "metadata": {
    "ExecuteTime": {
     "end_time": "2023-11-28T16:25:49.255674378Z",
     "start_time": "2023-11-28T16:25:49.254622637Z"
    }
   },
   "outputs": [],
   "source": []
  },
  {
   "cell_type": "markdown",
   "id": "feb94a39",
   "metadata": {},
   "source": [
    "## Model\n",
    "\n",
    "Contruisez un modèle RNN comme dans la partie 1. Pour l'instant, il prendra comme arguments:\n",
    "- Vocab size: le nombre de différents tokens du tokenizer (52 000 pour camembert-base)\n",
    "- Embedding dim: la dimension de l'embedding des tokens (par défaut 50)\n",
    "- hidden_dim: la dimension de l'état récurrent de votre RNN (par défaut 20)\n",
    "- tagset_size: la nombre de classes possibles pour les prédictions (ici 2)\n",
    "\n",
    "Dans le forward, votre modèle enchaînera les couches suivantes:\n",
    "- Un embedding\n",
    "- Un RNN\n",
    "- Un ReLU\n",
    "- Une couche linéaire\n",
    "- Un softmax pour que la somme des prédictions pour une entrée soit égale à 1 (la prédiction pour un élément et sa probabilité d'être dans chaque classe)"
   ]
  },
  {
   "cell_type": "code",
   "execution_count": 9,
   "id": "86e661ea",
   "metadata": {
    "ExecuteTime": {
     "end_time": "2023-11-28T16:25:49.262661042Z",
     "start_time": "2023-11-28T16:25:49.259331694Z"
    }
   },
   "outputs": [],
   "source": [
    "import torch\n",
    "import torch.nn as nn\n",
    "import torch.nn.functional as F\n",
    "\n",
    "class RNNModel(nn.Module):\n",
    "    def __init__(self, vocab_size, embedding_dim, hidden_dim=20, tagset_size=2):\n",
    "        super(RNNModel, self).__init__()\n",
    "        self.hidden_dim = hidden_dim\n",
    "\n",
    "        # Couches du modèle\n",
    "        self.embedding = nn.Embedding(vocab_size, embedding_dim)\n",
    "        self.rnn = nn.RNN(embedding_dim, hidden_dim)\n",
    "        self.relu = nn.ReLU()\n",
    "        self.linear = nn.Linear(hidden_dim, tagset_size)\n",
    "        self.softmax = nn.LogSoftmax(dim=1)\n",
    "\n",
    "    def forward(self, sentence):\n",
    "        embeds = self.embedding(sentence)  # Transforme chaque token ID en un vecteur d'embedding\n",
    "        rnn_out, _ = self.rnn(embeds)      # Passe les embeddings au RNN\n",
    "        rnn_out = rnn_out.view(-1, self.hidden_dim)  # Redimensionne la sortie pour la couche linéaire\n",
    "        linear_out = self.linear(rnn_out)\n",
    "        softmax_out = self.softmax(linear_out)\n",
    "        return softmax_out\n",
    "    \n",
    "class RNNModelModified(nn.Module):\n",
    "    def __init__(self, vocab_size, embedding_dim, hidden_dim=20, tagset_size=2):\n",
    "        super(RNNModelModified, self).__init__()\n",
    "        self.hidden_dim = hidden_dim\n",
    "\n",
    "        # Couches du modèle\n",
    "        self.embedding = nn.Embedding(vocab_size, embedding_dim)\n",
    "        self.rnn = nn.RNN(embedding_dim, hidden_dim, num_layers=2)\n",
    "        self.dropout = nn.Dropout(p=0.5)  # Ajout d'une couche dropout\n",
    "        self.relu = nn.ReLU()\n",
    "        self.linear1 = nn.Linear(hidden_dim, hidden_dim)  # Ajout d'une couche linéaire supplémentaire\n",
    "        self.linear2 = nn.Linear(hidden_dim, tagset_size)\n",
    "        self.softmax = nn.LogSoftmax(dim=1)\n",
    "        \n",
    "    def forward(self, sentence):\n",
    "        embeds = self.embedding(sentence)\n",
    "        rnn_out, _ = self.rnn(embeds)\n",
    "        rnn_out = self.dropout(rnn_out)\n",
    "        rnn_out = rnn_out.view(-1, self.hidden_dim)\n",
    "        linear_out = self.relu(self.linear1(rnn_out))\n",
    "        linear_out = self.linear2(linear_out)\n",
    "        softmax_out = self.softmax(linear_out)\n",
    "        return softmax_out"
   ]
  },
  {
   "cell_type": "code",
   "execution_count": 10,
   "outputs": [],
   "source": [
    "\n",
    "# Paramètres du modèle\n",
    "vocab_size = 52000  # Nombre de tokens différents dans CamemBERT\n",
    "embedding_dim = 50  # Dimension de l'embedding\n",
    "hidden_dim = 20     # Dimension de l'état récurrent du RNN\n",
    "tagset_size = 2     # Nombre de classes possibles (ici 2, pour nom ou pas nom)\n",
    "\n",
    "# Création du modèle\n",
    "# model = RNNModel(vocab_size, embedding_dim, hidden_dim, tagset_size)\n",
    "model_modified = RNNModelModified(vocab_size, embedding_dim, hidden_dim, tagset_size)"
   ],
   "metadata": {
    "collapsed": false,
    "ExecuteTime": {
     "end_time": "2023-11-28T16:25:49.284790165Z",
     "start_time": "2023-11-28T16:25:49.260903077Z"
    }
   },
   "id": "f08bc161fc28d371"
  },
  {
   "cell_type": "markdown",
   "id": "0d04004a",
   "metadata": {},
   "source": [
    "## Optimizer\n",
    "\n",
    "Je fournis ici une fonction prenant un modèle, des tenseurs X, y, attention_mask.\n",
    "Pour chaque batch:\n",
    "- La loop utilise le modèle pour prédire sur x_batch\n",
    "- Avec attention_mask, elle identifie sur quels tokens les prédictions compte\n",
    "- Elle regarde la cross entropy entre y\\[attention_ids\\] et yhat\\[attention_ids\\]\n",
    "- Elle output un dictionnaire avec le model et la loss au fur et à mesure des itérations\n",
    "\n",
    "Entraînez le modèle avec vos données. <br>\n",
    "Plottez la loss history.<br>\n",
    "Itérez sur le modèle pour l'améliorer:\n",
    "- Changer learning rate. Comment se comporte le modèle\n",
    "- Ajouter des couches denses, ReLU, dropout, normalization\n",
    "- Changer le nombre de layers du RNN, LSTM.\n",
    "\n"
   ]
  },
  {
   "cell_type": "code",
   "execution_count": 11,
   "outputs": [],
   "source": [
    "from sklearn.metrics import accuracy_score, precision_score, recall_score, f1_score\n",
    "\n",
    "def evaluate_model(model, loader, device):\n",
    "    model.eval()  # Met le modèle en mode évaluation\n",
    "    model.to(device)\n",
    "    true_labels = []\n",
    "    predictions = []\n",
    "\n",
    "    with torch.no_grad():  # Pas de calcul de gradient nécessaire\n",
    "        for x_batch, y_batch, mask in loader:\n",
    "            x_batch, y_batch, mask = x_batch.to(device), y_batch.to(device), mask.to(device)\n",
    "            yhat = model(x_batch)\n",
    "            yhat = yhat.view(-1, 2)\n",
    "            ids = mask.view(-1) == 1\n",
    "            this_y = y_batch.view(-1)[ids]\n",
    "            yhat = yhat[ids]\n",
    "\n",
    "            predicted_labels = torch.max(yhat, 1)[1]  # Obtient l'indice de la classe la plus probable\n",
    "            true_labels.extend(this_y.cpu().numpy())\n",
    "            predictions.extend(predicted_labels.cpu().numpy())\n",
    "\n",
    "    accuracy = accuracy_score(true_labels, predictions)\n",
    "    precision = precision_score(true_labels, predictions, average='binary')\n",
    "    recall = recall_score(true_labels, predictions, average='binary')\n",
    "    f1 = f1_score(true_labels, predictions, average='binary')\n",
    "\n",
    "    return accuracy, precision, recall, f1"
   ],
   "metadata": {
    "collapsed": false,
    "ExecuteTime": {
     "end_time": "2023-11-28T16:25:49.456556720Z",
     "start_time": "2023-11-28T16:25:49.282674605Z"
    }
   },
   "id": "3708f7285e2d9477"
  },
  {
   "cell_type": "code",
   "execution_count": 12,
   "id": "58b9833f",
   "metadata": {
    "ExecuteTime": {
     "end_time": "2023-11-28T16:25:49.501766328Z",
     "start_time": "2023-11-28T16:25:49.460343812Z"
    }
   },
   "outputs": [],
   "source": [
    "\n",
    "def train_model(model, X, y, attention_masks, n_epochs=100, lr=0.05, batch_size=128):\n",
    "    device = torch.device(\"cuda\" if torch.cuda.is_available() else \"cpu\")\n",
    "    model = model.to(device)  # Move model to the appropriate device\n",
    "    loss_function = torch.nn.CrossEntropyLoss()\n",
    "    loss_history = []\n",
    "    metrics_history = {\"accuracy\": [], \"precision\": [], \"recall\": [], \"f1\": []}\n",
    "\n",
    "    dataset = torch.utils.data.TensorDataset(X, y, attention_masks)\n",
    "    loader = torch.utils.data.DataLoader(dataset, batch_size=batch_size, shuffle=True)\n",
    "\n",
    "    optimizer = torch.optim.Adam(model.parameters(), lr=lr)\n",
    "\n",
    "    for epoch in range(n_epochs):\n",
    "        model.train()  # Met le modèle en mode d'entraînement\n",
    "        epoch_loss = 0.0\n",
    "        with tqdm(enumerate(loader), total=len(loader), desc=f\"Epoch {epoch + 1}/{n_epochs}\") as t:\n",
    "            for i, (x_batch, y_batch, mask) in t:\n",
    "                \n",
    "                x_batch, y_batch, mask = x_batch.to(device), y_batch.to(device), mask.to(device)  # Move batch data to the appropriate device\n",
    "                \n",
    "                optimizer.zero_grad()\n",
    "            \n",
    "                yhat = model(x_batch)\n",
    "                yhat = yhat.view(-1, 2)\n",
    "\n",
    "                ids = mask.view(-1) == 1\n",
    "                this_y = y_batch.view(-1)[ids]\n",
    "                yhat = yhat[ids]\n",
    "\n",
    "                loss = loss_function(yhat, this_y)\n",
    "                loss.backward()\n",
    "                optimizer.step()\n",
    "                \n",
    "                epoch_loss += loss.item()\n",
    "                t.set_postfix(loss=epoch_loss / (i + 1))\n",
    "\n",
    "        loss_history.append(epoch_loss / len(loader))\n",
    "        \n",
    "        # Évaluation du modèle\n",
    "        accuracy, precision, recall, f1 = evaluate_model(model, loader, \"cuda\" if torch.cuda.is_available() else \"cpu\")\n",
    "        metrics_history[\"accuracy\"].append(accuracy)\n",
    "        metrics_history[\"precision\"].append(precision)\n",
    "        metrics_history[\"recall\"].append(recall)\n",
    "        metrics_history[\"f1\"].append(f1)\n",
    "\n",
    "        print(f\"Epoch {epoch + 1}, Average Loss: {loss_history[-1]}, Accuracy: {accuracy}, Precision: {precision}, Recall: {recall}, F1: {f1}\")\n",
    "    \n",
    "    return {\"model\": model, \"loss_history\": loss_history, \"metrics_history\": metrics_history}"
   ]
  },
  {
   "cell_type": "code",
   "execution_count": 13,
   "id": "3cf63f72",
   "metadata": {
    "ExecuteTime": {
     "end_time": "2023-11-28T16:26:21.419229214Z",
     "start_time": "2023-11-28T16:25:49.501651919Z"
    }
   },
   "outputs": [
    {
     "name": "stderr",
     "output_type": "stream",
     "text": [
      "Epoch 1/3: 100%|██████████| 1098/1098 [00:04<00:00, 228.52it/s, loss=0.0819]\n"
     ]
    },
    {
     "name": "stdout",
     "output_type": "stream",
     "text": [
      "Epoch 1, Average Loss: 0.08191044334125432, Accuracy: 0.9759901254749695, Precision: 0.7134932453678708, Recall: 0.7999148602177716, F1: 0.7542365440337166\n"
     ]
    },
    {
     "name": "stderr",
     "output_type": "stream",
     "text": [
      "Epoch 2/3: 100%|██████████| 1098/1098 [00:04<00:00, 242.00it/s, loss=0.0562]\n"
     ]
    },
    {
     "name": "stdout",
     "output_type": "stream",
     "text": [
      "Epoch 2, Average Loss: 0.056233776465248325, Accuracy: 0.9767903320826786, Precision: 0.7477889337045577, Recall: 0.7485449744248076, F1: 0.7481667630653449\n"
     ]
    },
    {
     "name": "stderr",
     "output_type": "stream",
     "text": [
      "Epoch 3/3: 100%|██████████| 1098/1098 [00:04<00:00, 239.68it/s, loss=0.0552]\n"
     ]
    },
    {
     "name": "stdout",
     "output_type": "stream",
     "text": [
      "Epoch 3, Average Loss: 0.055180988293175054, Accuracy: 0.9767943147342484, Precision: 0.8007968127490039, Recall: 0.6604585575458458, F1: 0.7238886762534856\n"
     ]
    },
    {
     "data": {
      "text/plain": "<Figure size 1200x600 with 5 Axes>",
      "image/png": "[encoded data removed]"
     },
     "metadata": {},
     "output_type": "display_data"
    }
   ],
   "source": [
    "# Entraînement du modèle\n",
    "results = train_model(model_modified, X, y, attention_mask, n_epochs=3, lr=0.01, batch_size=128)\n",
    "\n",
    "# Récupération de l'historique de la perte et des métriques\n",
    "loss_history = results[\"loss_history\"]\n",
    "metrics_history = results[\"metrics_history\"]\n",
    "\n",
    "# Visualisation de la perte\n",
    "plt.figure(figsize=(12, 6))\n",
    "plt.subplot(2, 3, 1)\n",
    "plt.plot(loss_history, label='Loss')\n",
    "plt.title(\"Loss History\")\n",
    "plt.xlabel(\"Epoch\")\n",
    "plt.ylabel(\"Loss\")\n",
    "plt.legend()\n",
    "\n",
    "# Visualisation de l'accuracy\n",
    "plt.subplot(2, 3, 2)\n",
    "plt.plot(metrics_history[\"accuracy\"], label='Accuracy', color='orange')\n",
    "plt.title(\"Accuracy History\")\n",
    "plt.xlabel(\"Epoch\")\n",
    "plt.ylabel(\"Accuracy\")\n",
    "plt.legend()\n",
    "\n",
    "# Visualisation de la precision\n",
    "plt.subplot(2, 3, 3)\n",
    "plt.plot(metrics_history[\"precision\"], label='Precision', color='green')\n",
    "plt.title(\"Precision History\")\n",
    "plt.xlabel(\"Epoch\")\n",
    "plt.ylabel(\"Precision\")\n",
    "plt.legend()\n",
    "\n",
    "# Visualisation du recall\n",
    "plt.subplot(2, 3, 4)\n",
    "plt.plot(metrics_history[\"recall\"], label='Recall', color='red')\n",
    "plt.title(\"Recall History\")\n",
    "plt.xlabel(\"Epoch\")\n",
    "plt.ylabel(\"Recall\")\n",
    "plt.legend()\n",
    "\n",
    "# Visualisation du F1 Score\n",
    "plt.subplot(2, 3, 5)\n",
    "plt.plot(metrics_history[\"f1\"], label='F1 Score', color='purple')\n",
    "plt.title(\"F1 Score History\")\n",
    "plt.xlabel(\"Epoch\")\n",
    "plt.ylabel(\"F1 Score\")\n",
    "plt.legend()\n",
    "\n",
    "plt.tight_layout()\n",
    "plt.show()"
   ]
  },
  {
   "cell_type": "code",
   "execution_count": 14,
   "outputs": [],
   "source": [
    "torch.save(model_modified.state_dict(), \"model/model_p2.pt\")"
   ],
   "metadata": {
    "collapsed": false,
    "ExecuteTime": {
     "end_time": "2023-11-28T16:26:21.429619849Z",
     "start_time": "2023-11-28T16:26:21.418863297Z"
    }
   },
   "id": "9b0965ecf4f7d430"
  },
  {
   "cell_type": "markdown",
   "id": "f21a6933",
   "metadata": {},
   "source": [
    "## Postprocessing\n",
    "\n",
    "Créer une fonction prenant les prédictions du modèle (au niveau token) et sort les prédictions au niveau mot.<br>\n",
    "Par exemple, admettons que, pour un mot, la prédiction du 1er token est la seule qu'on considère.<br>\n",
    "si la phrase est \"Bonjour John\", avec les tokens \\[\"bon\", \"jour\", \"Jo\", \"hn\"\\] avec les predictions \\[0.12, 0.65, 0.88, 0.45\\]<br>\n",
    "Je veux récupérer les prédictions \"bonjour\": 0.12, \"John\": 0.88"
   ]
  },
  {
   "cell_type": "code",
   "execution_count": 15,
   "id": "da8562e3",
   "metadata": {
    "ExecuteTime": {
     "end_time": "2023-11-28T16:26:21.488738067Z",
     "start_time": "2023-11-28T16:26:21.430438813Z"
    }
   },
   "outputs": [],
   "source": [
    "model_loaded = RNNModelModified(vocab_size, embedding_dim, hidden_dim, tagset_size)\n"
   ]
  },
  {
   "cell_type": "code",
   "execution_count": 16,
   "outputs": [
    {
     "name": "stdout",
     "output_type": "stream",
     "text": [
      "Tokens: ['▁Il', '▁est', '▁incarné', '▁par', '▁A', 'ustin', '▁S', 'to', 'well']\n",
      "Predictions: [0, 0, 1, 0, 0, 0, 0, 0, 0, 1, 0, 0]\n"
     ]
    }
   ],
   "source": [
    "phrase = \"Bonjour Jhon, que pense tu de Alice?\"\n",
    "inputs = tokenizer(phrase, return_tensors=\"pt\", padding=True, truncation=True, max_length=max_len)\n",
    "\n",
    "device = torch.device(\"cuda\" if torch.cuda.is_available() else \"cpu\")\n",
    "\n",
    "model_loaded = model_loaded.to(device)  # Move model to the appropriate device\n",
    "model_loaded.load_state_dict(torch.load(\"model/model_p2.pt\"))\n",
    "model_loaded.eval()  # Mettre le modèle en mode évaluation\n",
    "\n",
    "inputs = {k: v.to(device) for k, v in inputs.items()}\n",
    "\n",
    "with torch.no_grad():\n",
    "    outputs = model_loaded(inputs['input_ids'])\n",
    "    predictions = torch.argmax(outputs, dim=-1)\n",
    "\n",
    "if predictions.ndim > 1:\n",
    "    token_predictions = predictions[0].tolist()\n",
    "else:\n",
    "    token_predictions = predictions.tolist()\n",
    "\n",
    "print(\"Tokens:\", tokens)\n",
    "print(\"Predictions:\", token_predictions)"
   ],
   "metadata": {
    "collapsed": false,
    "ExecuteTime": {
     "end_time": "2023-11-28T16:26:21.488984960Z",
     "start_time": "2023-11-28T16:26:21.473519487Z"
    }
   },
   "id": "4fcedfc5184a7c0a"
  },
  {
   "cell_type": "code",
   "execution_count": 17,
   "outputs": [],
   "source": [
    "\n",
    "def postprocess_predictions(tokens, preds):\n",
    "    word_predictions = {}\n",
    "    current_word = \"\"\n",
    "    current_pred = None\n",
    "\n",
    "    for token, pred in zip(tokens, preds):\n",
    "        if token.startswith(\"▁\"):  # Un nouveau mot commence\n",
    "            if current_word and current_pred is not None:\n",
    "                word_predictions[current_word] = current_pred\n",
    "            current_word = token[1:]\n",
    "            current_pred = pred\n",
    "        elif token in [\"</s>\", \"<s>\"]:  # Ignore les tokens spéciaux\n",
    "            continue\n",
    "        else:\n",
    "            current_word += token\n",
    "\n",
    "    if current_word and current_pred is not None:  # Ajoute la prédiction du dernier mot\n",
    "        word_predictions[current_word] = current_pred\n",
    "\n",
    "    return word_predictions"
   ],
   "metadata": {
    "collapsed": false,
    "ExecuteTime": {
     "end_time": "2023-11-28T16:26:21.489051775Z",
     "start_time": "2023-11-28T16:26:21.473728801Z"
    }
   },
   "id": "7a0a97b5d8c602ba"
  },
  {
   "cell_type": "code",
   "execution_count": 18,
   "outputs": [
    {
     "name": "stdout",
     "output_type": "stream",
     "text": [
      "Word Predictions: {'Bonjour': 0, 'Jhon,': 1, 'que': 0, 'pense': 0, 'tu': 0, 'de': 0, 'Alice?': 1}\n"
     ]
    }
   ],
   "source": [
    "tokens = tokenizer.convert_ids_to_tokens(inputs['input_ids'][0])\n",
    "word_preds = postprocess_predictions(tokens, token_predictions)\n",
    "print(\"Word Predictions:\", word_preds)"
   ],
   "metadata": {
    "collapsed": false,
    "ExecuteTime": {
     "end_time": "2023-11-28T16:26:21.489123097Z",
     "start_time": "2023-11-28T16:26:21.473775338Z"
    }
   },
   "id": "aed3e9f97f353e96"
  },
  {
   "cell_type": "code",
   "execution_count": 18,
   "outputs": [],
   "source": [],
   "metadata": {
    "collapsed": false,
    "ExecuteTime": {
     "end_time": "2023-11-28T16:26:21.489165323Z",
     "start_time": "2023-11-28T16:26:21.473803831Z"
    }
   },
   "id": "929c260351b90d22"
  }
 ],
 "metadata": {
  "kernelspec": {
   "display_name": "Python 3 (ipykernel)",
   "language": "python",
   "name": "python3"
  },
  "language_info": {
   "codemirror_mode": {
    "name": "ipython",
    "version": 3
   },
   "file_extension": ".py",
   "mimetype": "text/x-python",
   "name": "python",
   "nbconvert_exporter": "python",
   "pygments_lexer": "ipython3",
   "version": "3.10.12"
  }
 },
 "nbformat": 4,
 "nbformat_minor": 5
}
